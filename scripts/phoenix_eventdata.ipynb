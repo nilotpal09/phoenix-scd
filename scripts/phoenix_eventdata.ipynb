{
 "cells": [
  {
   "cell_type": "code",
   "execution_count": 1,
   "id": "8665c87a",
   "metadata": {},
   "outputs": [],
   "source": [
    "import json\n",
    "import uproot\n",
    "import numpy as np\n",
    "import pickle as pkl\n",
    "import plotly.express as px\n",
    "import plotly.graph_objects as go\n",
    "import pandas as pd\n",
    "from tqdm import tqdm\n",
    "import matplotlib.pyplot as plt"
   ]
  },
  {
   "cell_type": "code",
   "execution_count": 2,
   "id": "a3c66817",
   "metadata": {},
   "outputs": [],
   "source": [
    "# single jet\n",
    "#ntuple_path  = '/Users/ets/Dropbox/WIS/PFlow/samples/Ntuples_singleJet_noID_SuperResCosh_noThetaPhiSmearing_oldQPsmearing_18102022/test_skim.root'\n",
    "# ttbar\n",
    "ntuple_path      = '/Users/ets/Dropbox/WIS/PFlow/samples/Ntuples_ttbar_noID_SuperResCosh_21062022/val.root'"
   ]
  },
  {
   "cell_type": "code",
   "execution_count": 3,
   "id": "272c22a8",
   "metadata": {},
   "outputs": [],
   "source": [
    "f = uproot.open(ntuple_path)\n",
    "# [x for x in f['Low_Tree'].keys() if 'jet' in x]"
   ]
  },
  {
   "cell_type": "code",
   "execution_count": null,
   "id": "4966c939",
   "metadata": {},
   "outputs": [],
   "source": []
  },
  {
   "cell_type": "markdown",
   "id": "85c914f1",
   "metadata": {},
   "source": [
    "# Helper classes/functions"
   ]
  },
  {
   "cell_type": "code",
   "execution_count": 4,
   "id": "a6a1acd6",
   "metadata": {},
   "outputs": [],
   "source": [
    "class TrackHelix(object):\n",
    "    \n",
    "    '''\n",
    "    Taken from\n",
    "    https://github.com/wisroma-pflow/SCD/blob/main/event_display/source_py/track_utils.py#L9\n",
    "    '''\n",
    "    \n",
    "    def __init__(self,d0,z0,theta,phi0,qoverp):\n",
    "        \n",
    "        self.theta = theta\n",
    "        self.phi0 = phi0\n",
    "        self.d0 = d0\n",
    "        self.z0 = z0\n",
    "        self.vx = 0\n",
    "        self.vy = 0\n",
    "        self.vz = 0\n",
    "        self.qoverp = qoverp\n",
    "        self.Bz = 3.8\n",
    "        \n",
    "        self.rho = ( (np.sin(self.theta))/(self.qoverp*self.Bz) )*(1.0/0.299792)\n",
    "        \n",
    "    #parametrisation of helix, starting from perigee point\n",
    "    def x_of_phi(self,phi):\n",
    "        return self.vx+self.d0*np.cos(self.phi0+np.pi/2.0)+self.rho*(np.cos(phi+np.pi/2)-np.cos(self.phi0+np.pi/2))\n",
    "    def y_of_phi(self,phi):\n",
    "        return self.vy+self.d0*np.sin(self.phi0+np.pi/2.0)+self.rho*(np.sin(phi+np.pi/2)-np.sin(self.phi0+np.pi/2))\n",
    "    def z_of_phi(self,phi):\n",
    "        return self.vz+self.z0-(self.rho)*(1.0/np.tan(self.theta))*(phi-self.phi0)\n",
    "\n",
    "def get_track_traj(d0, z0, theta, phi0, qoverp):\n",
    "\n",
    "    '''\n",
    "    Taken from\n",
    "    https://github.com/wisroma-pflow/SCD/blob/main/event_display/source_py/track_utils.py#L44\n",
    "    '''\n",
    "\n",
    "    track = TrackHelix(d0,z0,theta,phi0,qoverp)\n",
    "\n",
    "    phis = np.linspace(phi0,phi0-np.sign(qoverp)*np.pi*1.0,550)\n",
    "    \n",
    "    xs = np.array([track.x_of_phi(phi) for phi in phis])\n",
    "    ys = np.array([track.y_of_phi(phi) for phi in phis])\n",
    "    zs = np.array([track.z_of_phi(phi) for phi in phis])\n",
    "    \n",
    "    rs = np.sqrt( xs**2+ys**2 )\n",
    "\n",
    "    stop_idx = np.where(rs >1500)[0]\n",
    "\n",
    "    if len(stop_idx) > 0:\n",
    "        stop_idx = stop_idx[0]\n",
    "\n",
    "    else:\n",
    "        return []\n",
    "\n",
    "    traj = np.column_stack([xs[:stop_idx],ys[:stop_idx],zs[:stop_idx]])\n",
    "    traj = traj.tolist()\n",
    "    \n",
    "    return traj\n",
    "\n",
    "def get_topoclusters(cell_topo_idx, cell_eta, cell_phi, cell_e):\n",
    "    \n",
    "    n_topoclusters = max(cell_topo_idx)\n",
    "\n",
    "    topoclusters = []\n",
    "    for i in range(n_topoclusters):\n",
    "        mask = cell_topo_idx == i+1\n",
    "        \n",
    "        tmp_e = cell_e[mask].sum()\n",
    "        tmp_eta = (cell_eta * cell_e)[mask].sum() / tmp_e\n",
    "        tmp_phi = (cell_phi * cell_e)[mask].sum() / tmp_e\n",
    "\n",
    "        tmp_tc = {\n",
    "            'energy': tmp_e.item(),\n",
    "            'eta'   : tmp_eta.item(),\n",
    "            'phi'   : tmp_phi.item()\n",
    "        }\n",
    "        \n",
    "        topoclusters.append(tmp_tc)\n",
    "        \n",
    "    return topoclusters\n",
    "\n",
    "def get_cells(cell_x, cell_y, cell_z, cell_e):\n",
    "    \n",
    "    cells = []\n",
    "    \n",
    "    for i,x in enumerate(cell_x):\n",
    "        size = np.log(cell_e[i].item())*5\n",
    "        cells.append({\n",
    "            'type': 'Point',\n",
    "            'pos': [cell_x[i].item(),cell_y[i].item(),cell_z[i].item()], #,size,size,size],\n",
    "            #'x': cell_x[i].item(),\n",
    "            #'y': cell_y[i].item(),\n",
    "            #'z': cell_z[i].item(),\n",
    "            'color': '#FFFF00', #yellow\n",
    "        })\n",
    "        \n",
    "    return cells\n",
    "\n",
    "def energy_transparency(cell_e):\n",
    "    \n",
    "    return (np.log(cell_e) - np.min(np.log(cell_e)))/np.ptp(np.log(cell_e))\n",
    "\n",
    "def get_color(layer,scaleby):\n",
    "\n",
    "#     lay_max = np.array([\n",
    "#                         [0, 255, 128],\n",
    "#                         [0, 255, 128],\n",
    "#                         [0, 255, 128],\n",
    "#                         [127, 0, 255],\n",
    "#                         [127, 0, 255],\n",
    "#                         [127, 0, 255]\n",
    "#                        ])\n",
    "    \n",
    "    lay_max = np.array([[110, 222, 138],\n",
    "                        [146, 230, 167],\n",
    "                        [183, 239, 197],\n",
    "                        [129, 137, 255],\n",
    "                        [150, 162, 255],\n",
    "                        [174, 184, 255]\n",
    "                       ])\n",
    "    \n",
    "    rgb = lay_max[layer]\n",
    "    rgb = rgb*scaleby\n",
    "    rgb = np.clip(rgb,0,255).astype(int)\n",
    "    \n",
    "    return f\"rgb({rgb[0]}, {rgb[1]}, {rgb[2]})\"\n",
    "\n",
    "def get_vertices(cell_x, cell_y, cell_z, cell_l, cell_e, vertices_df, dump_vertices=False, dump_centres=False):\n",
    "    \n",
    "    merge_supercells = True\n",
    "    size = 0.2\n",
    "    vertices = []\n",
    "    hashlist = []\n",
    "    distlist = []\n",
    "    #colors   = [0x6ede8a,0x92e6a7,0xb7efc5,0x8189ff,0x96a2ff,0xaeb8ff]\n",
    "    colors   = [\"rgb(110, 222, 138)\",\"rgb(146, 230, 167)\",\"rgb(183, 239, 197)\",\"rgb(129, 137, 255)\",\"rgb(150, 162, 255)\",\"rgb(174, 184, 255)\"]\n",
    "    layer_noise = [13, 34.,41.,75.,50.,25.]\n",
    "    \n",
    "    energy_01 = (np.log(cell_e) - np.min(np.log(cell_e)))/np.ptp(np.log(cell_e))\n",
    "    \n",
    "    print(min(energy_01))\n",
    "    print(max(energy_01))\n",
    "\n",
    "    event_cells = np.column_stack([cell_x,cell_y,cell_z])\n",
    "    \n",
    "    for idx, cell in enumerate(tqdm(event_cells)):\n",
    "        #if idx>5: continue #HACK!\n",
    "        #if(cell_l[idx])!=0:\n",
    "        #    continue\n",
    "        layer_df = vertices_df[vertices_df['layer']==cell_l[idx]]\n",
    "        if len(layer_df) == 0: continue\n",
    "        mpos = np.column_stack([layer_df['vmx'].to_numpy(),layer_df['vmy'].to_numpy(),layer_df['vmz'].to_numpy()])\n",
    "        pos  = np.repeat(np.expand_dims(cell,axis=0),len(mpos),axis=0)\n",
    "        dist = np.linalg.norm(pos - mpos,axis=1)\n",
    "\n",
    "        if(len(dist)==0):\n",
    "            print(layer_df)\n",
    "            print('cell_l=',cell_l[idx])\n",
    "        i_min = np.argmin(dist)\n",
    "        #if dist[i_min]>5:\n",
    "        #    continue\n",
    "            \n",
    "        distlist.append(dist[i_min])\n",
    "        winner = layer_df.iloc[i_min]['hash'].item()\n",
    "        if winner in hashlist:\n",
    "            print('WARNING: found duplicate! hash=',winner)\n",
    "            continue\n",
    "        hashlist.append(winner)\n",
    "        #print('winner = ', winner)\n",
    "        #row   = layer_df.iloc[i_min]\n",
    "        rows   = layer_df[layer_df['hash']==winner]\n",
    "        rows   = rows.sort_values('eta_idx')\n",
    "        #rows   = layer_df[(layer_df['region']==2) & (layer_df['v7y']>0) & (layer_df['v0x']>0)] #HACK!\n",
    "        #print(rows)\n",
    "\n",
    "    \n",
    "        if merge_supercells and not dump_vertices and not dump_centres:\n",
    "        \n",
    "            flat_coords = []\n",
    "            \n",
    "            if len(rows)>1:\n",
    "                vlists = [\n",
    "                    [0,2,4,6],\n",
    "                    [1,3,5,7],\n",
    "                ]\n",
    "\n",
    "                first_and_last = [0,len(rows)-1] if len(rows)>1 else [0]\n",
    "\n",
    "                for idx,subcell in enumerate(first_and_last):\n",
    "                    row = rows.iloc[subcell]\n",
    "                    for v in vlists[idx]:\n",
    "                        flat_coords = flat_coords + [row['v{}x'.format(v)].item(),row['v{}y'.format(v)].item(),row['v{}z'.format(v)].item()]\n",
    "            else:\n",
    "                row = rows\n",
    "                for v in range(8):\n",
    "                    flat_coords = flat_coords + [row['v{}x'.format(v)].item(),row['v{}y'.format(v)].item(),row['v{}z'.format(v)].item()]                \n",
    "            \n",
    "\n",
    "            layer = int(row['layer'].item())\n",
    "            energy = cell_e[idx].item()\n",
    "            #if layer > 2:\n",
    "            #    layer = layer - 1\n",
    "            vertices.append({\n",
    "                'type': 'SCDCaloCells',\n",
    "                'layer': layer,\n",
    "                'energy': energy,\n",
    "                'vtx': flat_coords,\n",
    "                'color': get_color(layer,1. ),# energy_01[idx]), #colors[layer],\n",
    "                'opacity': energy_01[idx].item(),\n",
    "            })\n",
    "        else:\n",
    "\n",
    "            for _, row in rows.iterrows():\n",
    "            #for _ in range(1):\n",
    "\n",
    "                if dump_centres: #dump the geometric centre of each cell as a point to display as a hit\n",
    "                    v = 'm'\n",
    "                    vertices.append({\n",
    "                        'type': 'Point',\n",
    "                        'pos': [row['v{}x'.format(v)].item(),row['v{}y'.format(v)].item(),row['v{}z'.format(v)].item()],\n",
    "                        'color': '#FFFF00', #yellow\n",
    "                    })\n",
    "                elif dump_vertices: #dump each vertex as a separate point to display as a hit\n",
    "                    for v in range(8):\n",
    "                        vertices.append({\n",
    "                            'type': 'Point',\n",
    "                            'pos': [row['v{}x'.format(v)].item(),row['v{}y'.format(v)].item(),row['v{}z'.format(v)].item()],\n",
    "                            'color': '#FFFF00', #yellow\n",
    "                        })\n",
    "                else: #dump full coords per cell as a polyhedron to display as an SCD cell\n",
    "                    flat_coords = []\n",
    "                    vlist = range(8)\n",
    "                    for v in vlist:\n",
    "                        flat_coords = flat_coords + [row['v{}x'.format(v)].item(),row['v{}y'.format(v)].item(),row['v{}z'.format(v)].item()]\n",
    "\n",
    "                    layer = int(row['layer'].item())\n",
    "                    energy = cell_e[idx].item()\n",
    "                    #if layer > 2:\n",
    "                    #    layer = layer - 1\n",
    "                    vertices.append({\n",
    "                        'type': 'SCDCaloCells',\n",
    "                        'layer': layer,\n",
    "                        'energy': energy,\n",
    "                        'vtx': flat_coords,\n",
    "                        'color': colors[layer],\n",
    "                        'opacity': energy_01[idx].item(),\n",
    "                    })\n",
    "\n",
    "\n",
    "    #plt.hist(distlist,bins=100)\n",
    "    #return vertices[0:2] #HACK!\n",
    "    #print(hashlist)\n",
    "    return vertices\n",
    "        \n",
    "\n",
    "# temporary hack\n",
    "# linear scaling \n",
    "#     20_00, 300_000 -> 15_000, 40_000\n",
    "\n",
    "def get_scaled_jet_e(e):\n",
    "    x_, y_ = 20_000, 300_000\n",
    "    x,  y  = 25_000,  40_000\n",
    "    \n",
    "    scale = (y - x) / (y_ - x_)\n",
    "    scaled_e = (e - x_) * scale + x\n",
    "    \n",
    "    return scaled_e"
   ]
  },
  {
   "cell_type": "code",
   "execution_count": 5,
   "id": "fff4b3a4",
   "metadata": {},
   "outputs": [],
   "source": [
    "# def dumpdata(ntuple_path,nevents=1):\n",
    "    \n",
    "#     tree = uproot.open(ntuple_path)['Low_Tree']\n",
    "#     nevents = min(tree.num_entries, nevents)   \n",
    "    \n",
    "#     #cells\n",
    "#     cell_x   = tree[\"cell_x\"].array(library='np', entry_stop=nevents)    \n",
    "#     cell_y   = tree[\"cell_y\"].array(library='np', entry_stop=nevents)    \n",
    "#     cell_z   = tree[\"cell_z\"].array(library='np', entry_stop=nevents)\n",
    "#     cell_l   = tree[\"cell_layer\"].array(library='np', entry_stop=nevents)    \n",
    "#     cell_eta = tree[\"cell_eta\"].array(library='np', entry_stop=nevents)    \n",
    "#     cell_phi = tree[\"cell_phi\"].array(library='np', entry_stop=nevents)    \n",
    "#     cell_e = tree[\"cell_e\"].array(library='np', entry_stop=nevents)    \n"
   ]
  },
  {
   "cell_type": "code",
   "execution_count": 6,
   "id": "97fae25a",
   "metadata": {},
   "outputs": [],
   "source": [
    "def scd2phdata(ntuple_path, output_path, nevents=1):\n",
    "    \n",
    "    tree = uproot.open(ntuple_path)['Low_Tree']\n",
    "    nevents = min(tree.num_entries, nevents)   \n",
    "    \n",
    "    # tracks\n",
    "    track_d0 = tree[\"track_d0\"].array(library='np', entry_stop=nevents)\n",
    "    track_z0 = tree[\"track_z0\"].array(library='np', entry_stop=nevents)\n",
    "    track_theta = tree[\"track_theta\"].array(library='np', entry_stop=nevents)\n",
    "    track_phi = tree[\"track_phi\"].array(library='np', entry_stop=nevents)\n",
    "    track_qoverp = tree[\"track_qoverp\"].array(library='np', entry_stop=nevents)\n",
    "    track_pdgid = tree[\"track_pdgid\"].array(library='np', entry_stop=nevents)    \n",
    "    \n",
    "    # topoclusters\n",
    "    cell_topo_idx = tree[\"cell_topo_idx\"].array(library='np', entry_stop=nevents)\n",
    "    \n",
    "    #cells\n",
    "    cell_x   = tree[\"cell_x\"].array(library='np', entry_stop=nevents)    \n",
    "    cell_y   = tree[\"cell_y\"].array(library='np', entry_stop=nevents)    \n",
    "    cell_z   = tree[\"cell_z\"].array(library='np', entry_stop=nevents)\n",
    "    cell_l   = tree[\"cell_layer\"].array(library='np', entry_stop=nevents)    \n",
    "    cell_eta = tree[\"cell_eta\"].array(library='np', entry_stop=nevents)    \n",
    "    cell_phi = tree[\"cell_phi\"].array(library='np', entry_stop=nevents)    \n",
    "    cell_e = tree[\"cell_e\"].array(library='np', entry_stop=nevents)    \n",
    "    \n",
    "    # jets\n",
    "    true_jet_pt  = tree[\"true_jet_pt\"].array(library='np', entry_stop=nevents)\n",
    "    true_jet_eta = tree[\"true_jet_eta\"].array(library='np', entry_stop=nevents)\n",
    "    true_jet_phi = tree[\"true_jet_phi\"].array(library='np', entry_stop=nevents)\n",
    "    true_jet_m   = tree[\"true_jet_m\"].array(library='np', entry_stop=nevents)\n",
    "\n",
    "    pflow_jet_pt  = tree[\"pflow_jet_pt\"].array(library='np', entry_stop=nevents)\n",
    "    pflow_jet_eta = tree[\"pflow_jet_eta\"].array(library='np', entry_stop=nevents)\n",
    "    pflow_jet_phi = tree[\"pflow_jet_phi\"].array(library='np', entry_stop=nevents)\n",
    "    pflow_jet_m   = tree[\"pflow_jet_m\"].array(library='np', entry_stop=nevents)\n",
    "\n",
    "\n",
    "    event_data = {}\n",
    "    \n",
    "    for i in range(nevents):\n",
    "                \n",
    "        event_dict = dict()\n",
    "        \n",
    "        event_dict['event number']: i\n",
    "        event_dict['run number']  : 0\n",
    "\n",
    "            \n",
    "        #    \n",
    "        # tracks\n",
    "        #------------------\n",
    "        \n",
    "        n_tracks = track_d0[i].shape[0]\n",
    "        \n",
    "        tracks = {}\n",
    "        all_tracks = []\n",
    "        e_tracks = []; chhad_tracks = []; mu_tracks = []\n",
    "\n",
    "        for j in range(n_tracks):\n",
    "            track_traj = get_track_traj(\n",
    "                    track_d0[i][j], track_z0[i][j], track_theta[i][j], track_phi[i][j], track_qoverp[i][j])\n",
    "\n",
    "            tmp_track = {\n",
    "                'pos': track_traj,\n",
    "                'color': '0xff0000'\n",
    "            }\n",
    "            all_tracks.append(tmp_track)\n",
    "            \n",
    "            if track_pdgid[i][j] in [11, -11]:\n",
    "                tmp_track = {\n",
    "                    'pos': track_traj,\n",
    "                    'color': '0xff8700'\n",
    "                }\n",
    "                e_tracks.append(tmp_track)\n",
    "\n",
    "            elif track_pdgid[i][j] in [13, -13]:\n",
    "                tmp_track = {\n",
    "                    'pos': track_traj,\n",
    "                    'color': '0xffd100'\n",
    "                }\n",
    "                mu_tracks.append(tmp_track)\n",
    "\n",
    "            else:\n",
    "                tmp_track = {\n",
    "                    'pos': track_traj,\n",
    "                    'color': '0xff5d00'\n",
    "                }\n",
    "                chhad_tracks.append(tmp_track)\n",
    "\n",
    "        tracks['all_tracks']   = all_tracks\n",
    "        tracks['e_tracks']     = e_tracks\n",
    "        tracks['chhad_tracks'] = chhad_tracks\n",
    "        tracks['mu_tracks']    = mu_tracks\n",
    "\n",
    "        event_dict['Tracks'] = tracks\n",
    "        \n",
    "                \n",
    "        #    \n",
    "        # jets\n",
    "        #------------------           \n",
    "\n",
    "        jets = {}\n",
    "\n",
    "        n_true_jets = true_jet_pt[i].shape[0]\n",
    "        true_jets = []\n",
    "\n",
    "        for j in range(n_true_jets):\n",
    "            jet_p = true_jet_pt[i][j] * np.cosh(true_jet_eta[i][j])   \n",
    "            jet_e = np.sqrt(true_jet_m[i][j] **2 + jet_p **2)\n",
    "            \n",
    "            tmp_jet = {\n",
    "                'eta': true_jet_eta[i][j].item(),\n",
    "                'phi': true_jet_phi[i][j].item(),\n",
    "                'coneR': 0.4,\n",
    "                'energy': get_scaled_jet_e(jet_e.item()),\n",
    "#                     'color': '0x72fcfc'\n",
    "            }\n",
    "            true_jets.append(tmp_jet)\n",
    "        jets['truth jets'] = true_jets\n",
    "            \n",
    "            \n",
    "#         n_pflow_jets = pflow_jet_pt[i].shape[0]\n",
    "#         pflow_jets = []\n",
    "        \n",
    "#         for j in range(n_pflow_jets):\n",
    "#             jet_p = pflow_jet_pt[i][j] * np.cosh(pflow_jet_eta[i][j])   \n",
    "#             jet_e = np.sqrt(pflow_jet_m[i][j] **2 + jet_p **2)\n",
    "\n",
    "#             if jet_e > 20_000:\n",
    "#                 tmp_jet = {\n",
    "#                     'eta': pflow_jet_eta[i][j].item(),\n",
    "#                     'phi': pflow_jet_phi[i][j].item(),\n",
    "#                     'coneR': 0.4,\n",
    "#                     'energy': jet_e.item(),\n",
    "# #                     'color': '0x81d5fc'\n",
    "#                 }\n",
    "#                 pflow_jets.append(tmp_jet)\n",
    "#         jets['pflow jets'] = pflow_jets\n",
    "        \n",
    "        event_dict['Jets'] = jets\n",
    "        \n",
    "        \n",
    "                \n",
    "        #    \n",
    "        # calclusters\n",
    "        #------------------\n",
    "        \n",
    "        calo_clusters = {}\n",
    "        calo_clusters['topoclusters'] = get_topoclusters(cell_topo_idx[i], cell_eta[i], cell_phi[i], cell_e[i])        \n",
    "        event_dict['CaloClusters'] = calo_clusters\n",
    "\n",
    "        #\n",
    "        # hits\n",
    "        #------------------\n",
    "        \n",
    "        cells = {}\n",
    "        cells['hits'] = get_cells(cell_x[i],cell_y[i],cell_z[i],cell_e[i])\n",
    "        #event_dict['Hits'] = cells\n",
    "        \n",
    "        #\n",
    "        # cells\n",
    "        #------------------\n",
    "        \n",
    "        #cells = {}\n",
    "        cells['centres'] = get_vertices(cell_x[i],cell_y[i],cell_z[i],cell_l[i],cell_e[i],cell_df,dump_centres=True)\n",
    "        event_dict['Hits'] = cells\n",
    "\n",
    "        \n",
    "        #\n",
    "        # SCDCaloCells\n",
    "        #------------------\n",
    "        \n",
    "        scc = {}\n",
    "        scc['vertices'] = get_vertices(cell_x[i],cell_y[i],cell_z[i],cell_l[i],cell_e[i],cell_df)\n",
    "        event_dict['SCDCaloCells'] = scc\n",
    "        \n",
    "        \n",
    "        # event\n",
    "        event_data[f'event_num_{i}'] = event_dict\n",
    "        \n",
    "    json_object = json.dumps(event_data, indent=2)\n",
    "    with open(output_path, \"w\") as outfile:\n",
    "        outfile.write(json_object)\n"
   ]
  },
  {
   "cell_type": "markdown",
   "id": "e78acab5",
   "metadata": {},
   "source": [
    "### Retrieve map of cells"
   ]
  },
  {
   "cell_type": "code",
   "execution_count": 7,
   "id": "7c1b67df",
   "metadata": {
    "scrolled": true
   },
   "outputs": [
    {
     "data": {
      "text/html": [
       "<div>\n",
       "<style scoped>\n",
       "    .dataframe tbody tr th:only-of-type {\n",
       "        vertical-align: middle;\n",
       "    }\n",
       "\n",
       "    .dataframe tbody tr th {\n",
       "        vertical-align: top;\n",
       "    }\n",
       "\n",
       "    .dataframe thead th {\n",
       "        text-align: right;\n",
       "    }\n",
       "</style>\n",
       "<table border=\"1\" class=\"dataframe\">\n",
       "  <thead>\n",
       "    <tr style=\"text-align: right;\">\n",
       "      <th></th>\n",
       "      <th>v0x</th>\n",
       "      <th>v0y</th>\n",
       "      <th>v0z</th>\n",
       "      <th>v1x</th>\n",
       "      <th>v1y</th>\n",
       "      <th>v1z</th>\n",
       "      <th>v2x</th>\n",
       "      <th>v2y</th>\n",
       "      <th>v2z</th>\n",
       "      <th>v3x</th>\n",
       "      <th>...</th>\n",
       "      <th>v6z</th>\n",
       "      <th>v7x</th>\n",
       "      <th>v7y</th>\n",
       "      <th>v7z</th>\n",
       "      <th>layer</th>\n",
       "      <th>region</th>\n",
       "      <th>eta_idx</th>\n",
       "      <th>phi_idx</th>\n",
       "      <th>hash</th>\n",
       "      <th>idx</th>\n",
       "    </tr>\n",
       "  </thead>\n",
       "  <tbody>\n",
       "    <tr>\n",
       "      <th>0</th>\n",
       "      <td>0.000000</td>\n",
       "      <td>318.822026</td>\n",
       "      <td>3193.919183</td>\n",
       "      <td>0.000000</td>\n",
       "      <td>326.421600</td>\n",
       "      <td>3193.919183</td>\n",
       "      <td>0.000000</td>\n",
       "      <td>328.169777</td>\n",
       "      <td>3287.563786</td>\n",
       "      <td>0.000000</td>\n",
       "      <td>...</td>\n",
       "      <td>3287.563786</td>\n",
       "      <td>-8.245661e+00</td>\n",
       "      <td>335.890973</td>\n",
       "      <td>3287.563786</td>\n",
       "      <td>0</td>\n",
       "      <td>1</td>\n",
       "      <td>0</td>\n",
       "      <td>1</td>\n",
       "      <td>100001</td>\n",
       "      <td>0</td>\n",
       "    </tr>\n",
       "    <tr>\n",
       "      <th>0</th>\n",
       "      <td>0.000000</td>\n",
       "      <td>318.822026</td>\n",
       "      <td>-3193.919183</td>\n",
       "      <td>0.000000</td>\n",
       "      <td>326.421600</td>\n",
       "      <td>-3193.919183</td>\n",
       "      <td>0.000000</td>\n",
       "      <td>328.169777</td>\n",
       "      <td>-3287.563786</td>\n",
       "      <td>0.000000</td>\n",
       "      <td>...</td>\n",
       "      <td>-3287.563786</td>\n",
       "      <td>-8.245661e+00</td>\n",
       "      <td>335.890973</td>\n",
       "      <td>-3287.563786</td>\n",
       "      <td>0</td>\n",
       "      <td>-1</td>\n",
       "      <td>0</td>\n",
       "      <td>1</td>\n",
       "      <td>-100001</td>\n",
       "      <td>1</td>\n",
       "    </tr>\n",
       "    <tr>\n",
       "      <th>0</th>\n",
       "      <td>-7.824284</td>\n",
       "      <td>318.726003</td>\n",
       "      <td>3193.919183</td>\n",
       "      <td>-8.010787</td>\n",
       "      <td>326.323287</td>\n",
       "      <td>3193.919183</td>\n",
       "      <td>-8.053690</td>\n",
       "      <td>328.070939</td>\n",
       "      <td>3287.563786</td>\n",
       "      <td>-8.245661</td>\n",
       "      <td>...</td>\n",
       "      <td>3287.563786</td>\n",
       "      <td>-1.648635e+01</td>\n",
       "      <td>335.587450</td>\n",
       "      <td>3287.563786</td>\n",
       "      <td>0</td>\n",
       "      <td>1</td>\n",
       "      <td>0</td>\n",
       "      <td>2</td>\n",
       "      <td>100002</td>\n",
       "      <td>2</td>\n",
       "    </tr>\n",
       "    <tr>\n",
       "      <th>0</th>\n",
       "      <td>-7.824284</td>\n",
       "      <td>318.726003</td>\n",
       "      <td>-3193.919183</td>\n",
       "      <td>-8.010787</td>\n",
       "      <td>326.323287</td>\n",
       "      <td>-3193.919183</td>\n",
       "      <td>-8.053690</td>\n",
       "      <td>328.070939</td>\n",
       "      <td>-3287.563786</td>\n",
       "      <td>-8.245661</td>\n",
       "      <td>...</td>\n",
       "      <td>-3287.563786</td>\n",
       "      <td>-1.648635e+01</td>\n",
       "      <td>335.587450</td>\n",
       "      <td>-3287.563786</td>\n",
       "      <td>0</td>\n",
       "      <td>-1</td>\n",
       "      <td>0</td>\n",
       "      <td>2</td>\n",
       "      <td>-100002</td>\n",
       "      <td>3</td>\n",
       "    </tr>\n",
       "    <tr>\n",
       "      <th>0</th>\n",
       "      <td>-15.643855</td>\n",
       "      <td>318.437991</td>\n",
       "      <td>3193.919183</td>\n",
       "      <td>-16.016749</td>\n",
       "      <td>326.028410</td>\n",
       "      <td>3193.919183</td>\n",
       "      <td>-16.102528</td>\n",
       "      <td>327.774483</td>\n",
       "      <td>3287.563786</td>\n",
       "      <td>-16.486354</td>\n",
       "      <td>...</td>\n",
       "      <td>3287.563786</td>\n",
       "      <td>-2.471712e+01</td>\n",
       "      <td>335.081782</td>\n",
       "      <td>3287.563786</td>\n",
       "      <td>0</td>\n",
       "      <td>1</td>\n",
       "      <td>0</td>\n",
       "      <td>3</td>\n",
       "      <td>100003</td>\n",
       "      <td>4</td>\n",
       "    </tr>\n",
       "    <tr>\n",
       "      <th>...</th>\n",
       "      <td>...</td>\n",
       "      <td>...</td>\n",
       "      <td>...</td>\n",
       "      <td>...</td>\n",
       "      <td>...</td>\n",
       "      <td>...</td>\n",
       "      <td>...</td>\n",
       "      <td>...</td>\n",
       "      <td>...</td>\n",
       "      <td>...</td>\n",
       "      <td>...</td>\n",
       "      <td>...</td>\n",
       "      <td>...</td>\n",
       "      <td>...</td>\n",
       "      <td>...</td>\n",
       "      <td>...</td>\n",
       "      <td>...</td>\n",
       "      <td>...</td>\n",
       "      <td>...</td>\n",
       "      <td>...</td>\n",
       "      <td>...</td>\n",
       "    </tr>\n",
       "    <tr>\n",
       "      <th>0</th>\n",
       "      <td>1336.441351</td>\n",
       "      <td>2000.125827</td>\n",
       "      <td>-4990.814229</td>\n",
       "      <td>1336.441351</td>\n",
       "      <td>2000.125827</td>\n",
       "      <td>-5122.047479</td>\n",
       "      <td>1451.810742</td>\n",
       "      <td>2172.788323</td>\n",
       "      <td>-5421.650345</td>\n",
       "      <td>1451.810742</td>\n",
       "      <td>...</td>\n",
       "      <td>-5421.650345</td>\n",
       "      <td>1.000025e+03</td>\n",
       "      <td>2414.273030</td>\n",
       "      <td>-5564.212412</td>\n",
       "      <td>6</td>\n",
       "      <td>-2</td>\n",
       "      <td>7</td>\n",
       "      <td>30</td>\n",
       "      <td>-267030</td>\n",
       "      <td>204795</td>\n",
       "    </tr>\n",
       "    <tr>\n",
       "      <th>0</th>\n",
       "      <td>920.556813</td>\n",
       "      <td>2222.420744</td>\n",
       "      <td>4990.814229</td>\n",
       "      <td>920.556813</td>\n",
       "      <td>2222.420744</td>\n",
       "      <td>5122.047479</td>\n",
       "      <td>1000.024632</td>\n",
       "      <td>2414.273030</td>\n",
       "      <td>5421.650345</td>\n",
       "      <td>1000.024632</td>\n",
       "      <td>...</td>\n",
       "      <td>5421.650345</td>\n",
       "      <td>5.098081e+02</td>\n",
       "      <td>2562.978579</td>\n",
       "      <td>5564.212412</td>\n",
       "      <td>6</td>\n",
       "      <td>2</td>\n",
       "      <td>7</td>\n",
       "      <td>31</td>\n",
       "      <td>267031</td>\n",
       "      <td>204796</td>\n",
       "    </tr>\n",
       "    <tr>\n",
       "      <th>0</th>\n",
       "      <td>920.556813</td>\n",
       "      <td>2222.420744</td>\n",
       "      <td>-4990.814229</td>\n",
       "      <td>920.556813</td>\n",
       "      <td>2222.420744</td>\n",
       "      <td>-5122.047479</td>\n",
       "      <td>1000.024632</td>\n",
       "      <td>2414.273030</td>\n",
       "      <td>-5421.650345</td>\n",
       "      <td>1000.024632</td>\n",
       "      <td>...</td>\n",
       "      <td>-5421.650345</td>\n",
       "      <td>5.098081e+02</td>\n",
       "      <td>2562.978579</td>\n",
       "      <td>-5564.212412</td>\n",
       "      <td>6</td>\n",
       "      <td>-2</td>\n",
       "      <td>7</td>\n",
       "      <td>31</td>\n",
       "      <td>-267031</td>\n",
       "      <td>204797</td>\n",
       "    </tr>\n",
       "    <tr>\n",
       "      <th>0</th>\n",
       "      <td>469.295794</td>\n",
       "      <td>2359.309278</td>\n",
       "      <td>4990.814229</td>\n",
       "      <td>469.295794</td>\n",
       "      <td>2359.309278</td>\n",
       "      <td>5122.047479</td>\n",
       "      <td>509.808137</td>\n",
       "      <td>2562.978579</td>\n",
       "      <td>5421.650345</td>\n",
       "      <td>509.808137</td>\n",
       "      <td>...</td>\n",
       "      <td>5421.650345</td>\n",
       "      <td>1.477929e-12</td>\n",
       "      <td>2613.190297</td>\n",
       "      <td>5564.212412</td>\n",
       "      <td>6</td>\n",
       "      <td>2</td>\n",
       "      <td>7</td>\n",
       "      <td>32</td>\n",
       "      <td>267032</td>\n",
       "      <td>204798</td>\n",
       "    </tr>\n",
       "    <tr>\n",
       "      <th>0</th>\n",
       "      <td>469.295794</td>\n",
       "      <td>2359.309278</td>\n",
       "      <td>-4990.814229</td>\n",
       "      <td>469.295794</td>\n",
       "      <td>2359.309278</td>\n",
       "      <td>-5122.047479</td>\n",
       "      <td>509.808137</td>\n",
       "      <td>2562.978579</td>\n",
       "      <td>-5421.650345</td>\n",
       "      <td>509.808137</td>\n",
       "      <td>...</td>\n",
       "      <td>-5421.650345</td>\n",
       "      <td>1.477929e-12</td>\n",
       "      <td>2613.190297</td>\n",
       "      <td>-5564.212412</td>\n",
       "      <td>6</td>\n",
       "      <td>-2</td>\n",
       "      <td>7</td>\n",
       "      <td>32</td>\n",
       "      <td>-267032</td>\n",
       "      <td>204799</td>\n",
       "    </tr>\n",
       "  </tbody>\n",
       "</table>\n",
       "<p>204800 rows × 30 columns</p>\n",
       "</div>"
      ],
      "text/plain": [
       "            v0x          v0y          v0z          v1x          v1y  \\\n",
       "0      0.000000   318.822026  3193.919183     0.000000   326.421600   \n",
       "0      0.000000   318.822026 -3193.919183     0.000000   326.421600   \n",
       "0     -7.824284   318.726003  3193.919183    -8.010787   326.323287   \n",
       "0     -7.824284   318.726003 -3193.919183    -8.010787   326.323287   \n",
       "0    -15.643855   318.437991  3193.919183   -16.016749   326.028410   \n",
       "..          ...          ...          ...          ...          ...   \n",
       "0   1336.441351  2000.125827 -4990.814229  1336.441351  2000.125827   \n",
       "0    920.556813  2222.420744  4990.814229   920.556813  2222.420744   \n",
       "0    920.556813  2222.420744 -4990.814229   920.556813  2222.420744   \n",
       "0    469.295794  2359.309278  4990.814229   469.295794  2359.309278   \n",
       "0    469.295794  2359.309278 -4990.814229   469.295794  2359.309278   \n",
       "\n",
       "            v1z          v2x          v2y          v2z          v3x  ...  \\\n",
       "0   3193.919183     0.000000   328.169777  3287.563786     0.000000  ...   \n",
       "0  -3193.919183     0.000000   328.169777 -3287.563786     0.000000  ...   \n",
       "0   3193.919183    -8.053690   328.070939  3287.563786    -8.245661  ...   \n",
       "0  -3193.919183    -8.053690   328.070939 -3287.563786    -8.245661  ...   \n",
       "0   3193.919183   -16.102528   327.774483  3287.563786   -16.486354  ...   \n",
       "..          ...          ...          ...          ...          ...  ...   \n",
       "0  -5122.047479  1451.810742  2172.788323 -5421.650345  1451.810742  ...   \n",
       "0   5122.047479  1000.024632  2414.273030  5421.650345  1000.024632  ...   \n",
       "0  -5122.047479  1000.024632  2414.273030 -5421.650345  1000.024632  ...   \n",
       "0   5122.047479   509.808137  2562.978579  5421.650345   509.808137  ...   \n",
       "0  -5122.047479   509.808137  2562.978579 -5421.650345   509.808137  ...   \n",
       "\n",
       "            v6z           v7x          v7y          v7z  layer  region  \\\n",
       "0   3287.563786 -8.245661e+00   335.890973  3287.563786      0       1   \n",
       "0  -3287.563786 -8.245661e+00   335.890973 -3287.563786      0      -1   \n",
       "0   3287.563786 -1.648635e+01   335.587450  3287.563786      0       1   \n",
       "0  -3287.563786 -1.648635e+01   335.587450 -3287.563786      0      -1   \n",
       "0   3287.563786 -2.471712e+01   335.081782  3287.563786      0       1   \n",
       "..          ...           ...          ...          ...    ...     ...   \n",
       "0  -5421.650345  1.000025e+03  2414.273030 -5564.212412      6      -2   \n",
       "0   5421.650345  5.098081e+02  2562.978579  5564.212412      6       2   \n",
       "0  -5421.650345  5.098081e+02  2562.978579 -5564.212412      6      -2   \n",
       "0   5421.650345  1.477929e-12  2613.190297  5564.212412      6       2   \n",
       "0  -5421.650345  1.477929e-12  2613.190297 -5564.212412      6      -2   \n",
       "\n",
       "    eta_idx  phi_idx    hash     idx  \n",
       "0         0        1  100001       0  \n",
       "0         0        1 -100001       1  \n",
       "0         0        2  100002       2  \n",
       "0         0        2 -100002       3  \n",
       "0         0        3  100003       4  \n",
       "..      ...      ...     ...     ...  \n",
       "0         7       30 -267030  204795  \n",
       "0         7       31  267031  204796  \n",
       "0         7       31 -267031  204797  \n",
       "0         7       32  267032  204798  \n",
       "0         7       32 -267032  204799  \n",
       "\n",
       "[204800 rows x 30 columns]"
      ]
     },
     "execution_count": 7,
     "metadata": {},
     "output_type": "execute_result"
    }
   ],
   "source": [
    "cell_path = \"cells.pkl\"\n",
    "cell_df   = pkl.load(open(cell_path,'rb'))\n",
    "cell_df"
   ]
  },
  {
   "cell_type": "code",
   "execution_count": 8,
   "id": "9c3d1cb0",
   "metadata": {},
   "outputs": [
    {
     "name": "stdout",
     "output_type": "stream",
     "text": [
      "[65536, 65536, 32768, 0, 16384, 16384]\n"
     ]
    }
   ],
   "source": [
    "print([np.sum(cell_df['layer']==i) for i in range(6)])"
   ]
  },
  {
   "cell_type": "code",
   "execution_count": 9,
   "id": "3b2fb371",
   "metadata": {
    "scrolled": true
   },
   "outputs": [],
   "source": [
    "#for r in range(1000):\n",
    "#    print(cell_df[cell_df['layer']==5].iloc[r]['hash'])"
   ]
  },
  {
   "cell_type": "code",
   "execution_count": 10,
   "id": "5b6d31b3",
   "metadata": {},
   "outputs": [],
   "source": [
    "#Make up for iron gap <-- already converted upstream\n",
    "cell_df.loc[ cell_df['layer']==4, 'layer'] = 3\n",
    "cell_df.loc[ cell_df['layer']==5, 'layer'] = 4\n",
    "cell_df.loc[ cell_df['layer']==6, 'layer'] = 5\n",
    "\n",
    "cell_df['vmx'] = np.mean(np.column_stack([cell_df['v{}x'.format(i)].to_numpy() for i in range(8)]),axis=1)\n",
    "cell_df['vmy'] = np.mean(np.column_stack([cell_df['v{}y'.format(i)].to_numpy() for i in range(8)]),axis=1)\n",
    "cell_df['vmz'] = np.mean(np.column_stack([cell_df['v{}z'.format(i)].to_numpy() for i in range(8)]),axis=1)"
   ]
  },
  {
   "cell_type": "code",
   "execution_count": 11,
   "id": "b21c3515",
   "metadata": {},
   "outputs": [
    {
     "name": "stdout",
     "output_type": "stream",
     "text": [
      "5\n"
     ]
    }
   ],
   "source": [
    "print(max(cell_df['layer']))"
   ]
  },
  {
   "cell_type": "code",
   "execution_count": 12,
   "id": "a4a12e56",
   "metadata": {
    "scrolled": false
   },
   "outputs": [],
   "source": [
    "idx = 10\n",
    "Nv = 8\n",
    "\n",
    "#cell_df = cell_df[cell_df['layer']==6]\n",
    "#cell_df = cell_df[0:2]\n",
    "#print(cell_df)\n",
    "\n",
    "new_dict = {\n",
    "    'x': pd.concat([cell_df['v{}x'.format(i)] for i in range(Nv)]),\n",
    "    'y': pd.concat([cell_df['v{}y'.format(i)] for i in range(Nv)]),\n",
    "    'z': pd.concat([cell_df['v{}z'.format(i)] for i in range(Nv)]),\n",
    "    'idx': pd.concat([cell_df['idx'] for i in range(Nv)]),\n",
    "    'layer': pd.concat([cell_df['layer'] for i in range(Nv)]),\n",
    "    'corner': np.repeat([range(Nv)],len(cell_df),axis=0).flatten().tolist()\n",
    "           }\n",
    "new_df = pd.DataFrame(new_dict)\n",
    "#px.line_3d(new_df,x='z',y='y',z='x',color='corner')\n",
    "#px.scatter_3d(new_df,x='z',y='y',z='x',color='corner')\n",
    "#px.scatter_3d(cell_df,x='v0z',y='v0y',z='v0x')\n",
    "\n",
    "fig = go.Figure(data=[go.Scatter3d(\n",
    "    #x=new_dict['x'],y=new_dict['y'],z=new_dict['z'],\n",
    "    x=cell_df['vmx'],y=cell_df['vmy'],z=cell_df['vmz'],\n",
    "    mode='markers',\n",
    "    marker=dict(\n",
    "        size=3,\n",
    "        color=new_dict['layer'],#np.linalg.norm(np.column_stack([new_dict['x'],new_dict['y'],new_dict['z']]),axis=1),    # set color to an array/list of desired values\n",
    "        colorscale='Viridis',   # choose a colorscale\n",
    "        opacity=0.8\n",
    "    )\n",
    ")])\n",
    "\n",
    "fig.write_html(\"cells.html\")"
   ]
  },
  {
   "cell_type": "code",
   "execution_count": 18,
   "id": "ea8054a4",
   "metadata": {
    "scrolled": false
   },
   "outputs": [
    {
     "name": "stdout",
     "output_type": "stream",
     "text": [
      "0.0\n",
      "1.0\n"
     ]
    },
    {
     "name": "stderr",
     "output_type": "stream",
     "text": [
      "100%|████████████████████████████████████████████████████████████████████████████████████████████████████████████| 2120/2120 [00:11<00:00, 183.63it/s]\n"
     ]
    },
    {
     "name": "stdout",
     "output_type": "stream",
     "text": [
      "0.0\n",
      "1.0\n"
     ]
    },
    {
     "name": "stderr",
     "output_type": "stream",
     "text": [
      "100%|████████████████████████████████████████████████████████████████████████████████████████████████████████████| 2120/2120 [00:12<00:00, 168.90it/s]\n"
     ]
    },
    {
     "name": "stdout",
     "output_type": "stream",
     "text": [
      "0.0\n",
      "1.0\n"
     ]
    },
    {
     "name": "stderr",
     "output_type": "stream",
     "text": [
      "100%|████████████████████████████████████████████████████████████████████████████████████████████████████████████| 1492/1492 [00:08<00:00, 183.42it/s]\n"
     ]
    },
    {
     "name": "stdout",
     "output_type": "stream",
     "text": [
      "0.0\n",
      "1.0\n"
     ]
    },
    {
     "name": "stderr",
     "output_type": "stream",
     "text": [
      "100%|████████████████████████████████████████████████████████████████████████████████████████████████████████████| 1492/1492 [00:08<00:00, 171.85it/s]\n"
     ]
    },
    {
     "name": "stdout",
     "output_type": "stream",
     "text": [
      "0.0\n",
      "1.0\n"
     ]
    },
    {
     "name": "stderr",
     "output_type": "stream",
     "text": [
      "100%|████████████████████████████████████████████████████████████████████████████████████████████████████████████| 4510/4510 [00:23<00:00, 195.60it/s]\n"
     ]
    },
    {
     "name": "stdout",
     "output_type": "stream",
     "text": [
      "0.0\n",
      "1.0\n"
     ]
    },
    {
     "name": "stderr",
     "output_type": "stream",
     "text": [
      "100%|████████████████████████████████████████████████████████████████████████████████████████████████████████████| 4510/4510 [00:24<00:00, 182.39it/s]\n"
     ]
    },
    {
     "name": "stdout",
     "output_type": "stream",
     "text": [
      "0.0\n",
      "1.0\n"
     ]
    },
    {
     "name": "stderr",
     "output_type": "stream",
     "text": [
      "100%|████████████████████████████████████████████████████████████████████████████████████████████████████████████| 3121/3121 [00:16<00:00, 191.79it/s]\n"
     ]
    },
    {
     "name": "stdout",
     "output_type": "stream",
     "text": [
      "0.0\n",
      "1.0\n"
     ]
    },
    {
     "name": "stderr",
     "output_type": "stream",
     "text": [
      "100%|████████████████████████████████████████████████████████████████████████████████████████████████████████████| 3121/3121 [00:16<00:00, 183.94it/s]\n"
     ]
    },
    {
     "name": "stdout",
     "output_type": "stream",
     "text": [
      "0.0\n",
      "1.0\n"
     ]
    },
    {
     "name": "stderr",
     "output_type": "stream",
     "text": [
      "100%|████████████████████████████████████████████████████████████████████████████████████████████████████████████| 3992/3992 [00:20<00:00, 191.58it/s]\n"
     ]
    },
    {
     "name": "stdout",
     "output_type": "stream",
     "text": [
      "0.0\n",
      "1.0\n"
     ]
    },
    {
     "name": "stderr",
     "output_type": "stream",
     "text": [
      "100%|████████████████████████████████████████████████████████████████████████████████████████████████████████████| 3992/3992 [00:22<00:00, 179.60it/s]\n"
     ]
    },
    {
     "name": "stdout",
     "output_type": "stream",
     "text": [
      "0.0\n",
      "1.0\n"
     ]
    },
    {
     "name": "stderr",
     "output_type": "stream",
     "text": [
      "100%|████████████████████████████████████████████████████████████████████████████████████████████████████████████| 1899/1899 [00:10<00:00, 184.67it/s]\n"
     ]
    },
    {
     "name": "stdout",
     "output_type": "stream",
     "text": [
      "0.0\n",
      "1.0\n"
     ]
    },
    {
     "name": "stderr",
     "output_type": "stream",
     "text": [
      "100%|████████████████████████████████████████████████████████████████████████████████████████████████████████████| 1899/1899 [00:10<00:00, 174.23it/s]\n"
     ]
    },
    {
     "name": "stdout",
     "output_type": "stream",
     "text": [
      "0.0\n",
      "1.0\n"
     ]
    },
    {
     "name": "stderr",
     "output_type": "stream",
     "text": [
      "100%|████████████████████████████████████████████████████████████████████████████████████████████████████████████| 2424/2424 [00:12<00:00, 194.85it/s]\n"
     ]
    },
    {
     "name": "stdout",
     "output_type": "stream",
     "text": [
      "0.0\n",
      "1.0\n"
     ]
    },
    {
     "name": "stderr",
     "output_type": "stream",
     "text": [
      "100%|████████████████████████████████████████████████████████████████████████████████████████████████████████████| 2424/2424 [00:13<00:00, 181.04it/s]\n"
     ]
    },
    {
     "name": "stdout",
     "output_type": "stream",
     "text": [
      "0.0\n",
      "1.0\n"
     ]
    },
    {
     "name": "stderr",
     "output_type": "stream",
     "text": [
      "100%|████████████████████████████████████████████████████████████████████████████████████████████████████████████| 1892/1892 [00:10<00:00, 186.15it/s]\n"
     ]
    },
    {
     "name": "stdout",
     "output_type": "stream",
     "text": [
      "0.0\n",
      "1.0\n"
     ]
    },
    {
     "name": "stderr",
     "output_type": "stream",
     "text": [
      "100%|████████████████████████████████████████████████████████████████████████████████████████████████████████████| 1892/1892 [00:10<00:00, 176.91it/s]\n"
     ]
    },
    {
     "name": "stdout",
     "output_type": "stream",
     "text": [
      "0.0\n",
      "1.0\n"
     ]
    },
    {
     "name": "stderr",
     "output_type": "stream",
     "text": [
      "100%|████████████████████████████████████████████████████████████████████████████████████████████████████████████| 1346/1346 [00:07<00:00, 189.00it/s]\n"
     ]
    },
    {
     "name": "stdout",
     "output_type": "stream",
     "text": [
      "0.0\n",
      "1.0\n"
     ]
    },
    {
     "name": "stderr",
     "output_type": "stream",
     "text": [
      "100%|████████████████████████████████████████████████████████████████████████████████████████████████████████████| 1346/1346 [00:07<00:00, 179.42it/s]\n"
     ]
    },
    {
     "name": "stdout",
     "output_type": "stream",
     "text": [
      "0.0\n",
      "1.0\n"
     ]
    },
    {
     "name": "stderr",
     "output_type": "stream",
     "text": [
      "100%|████████████████████████████████████████████████████████████████████████████████████████████████████████████| 1821/1821 [00:09<00:00, 187.94it/s]\n"
     ]
    },
    {
     "name": "stdout",
     "output_type": "stream",
     "text": [
      "0.0\n",
      "1.0\n"
     ]
    },
    {
     "name": "stderr",
     "output_type": "stream",
     "text": [
      "100%|████████████████████████████████████████████████████████████████████████████████████████████████████████████| 1821/1821 [00:10<00:00, 176.50it/s]\n"
     ]
    }
   ],
   "source": [
    "output_path = 'events.json'\n",
    "scd2phdata(ntuple_path, output_path, 10)"
   ]
  },
  {
   "cell_type": "code",
   "execution_count": 14,
   "id": "d080874c",
   "metadata": {},
   "outputs": [],
   "source": [
    "with open(output_path, 'r') as fj:\n",
    "    data = json.load(fj)\n",
    "#     print(json.dumps(data, indent=2, sort_keys=True))"
   ]
  },
  {
   "cell_type": "code",
   "execution_count": null,
   "id": "38c4e89f",
   "metadata": {},
   "outputs": [],
   "source": []
  },
  {
   "cell_type": "code",
   "execution_count": 15,
   "id": "3568d43d",
   "metadata": {},
   "outputs": [],
   "source": [
    "tree = uproot.open(ntuple_path)['Low_Tree']\n",
    "nevents = 5\n",
    "cell_e = tree[\"cell_e\"].array(library='np', entry_stop=nevents)[0]"
   ]
  },
  {
   "cell_type": "code",
   "execution_count": 16,
   "id": "17ee0045",
   "metadata": {},
   "outputs": [],
   "source": [
    "cell_e_transformed = (np.log(cell_e) - np.min(np.log(cell_e)))/np.ptp(np.log(cell_e))"
   ]
  },
  {
   "cell_type": "code",
   "execution_count": 17,
   "id": "3081f460",
   "metadata": {
    "scrolled": false
   },
   "outputs": [
    {
     "data": {
      "text/plain": [
       "(array([  1.,   1.,   5.,  33., 227., 804., 795., 202.,  43.,   9.]),\n",
       " array([0. , 0.1, 0.2, 0.3, 0.4, 0.5, 0.6, 0.7, 0.8, 0.9, 1. ],\n",
       "       dtype=float32),\n",
       " <BarContainer object of 10 artists>)"
      ]
     },
     "execution_count": 17,
     "metadata": {},
     "output_type": "execute_result"
    },
    {
     "data": {
      "image/png": "[encoded data removed]",
      "text/plain": [
       "<Figure size 432x288 with 1 Axes>"
      ]
     },
     "metadata": {
      "needs_background": "light"
     },
     "output_type": "display_data"
    }
   ],
   "source": [
    "plt.hist(cell_e_transformed)"
   ]
  },
  {
   "cell_type": "code",
   "execution_count": null,
   "id": "fb059f1a",
   "metadata": {},
   "outputs": [],
   "source": []
  },
  {
   "cell_type": "code",
   "execution_count": null,
   "id": "f292e520",
   "metadata": {},
   "outputs": [],
   "source": []
  }
 ],
 "metadata": {
  "kernelspec": {
   "display_name": "Python 3 (ipykernel)",
   "language": "python",
   "name": "python3"
  },
  "language_info": {
   "codemirror_mode": {
    "name": "ipython",
    "version": 3
   },
   "file_extension": ".py",
   "mimetype": "text/x-python",
   "name": "python",
   "nbconvert_exporter": "python",
   "pygments_lexer": "ipython3",
   "version": "3.8.12"
  }
 },
 "nbformat": 4,
 "nbformat_minor": 5
}
